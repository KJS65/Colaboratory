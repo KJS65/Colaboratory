{
  "nbformat": 4,
  "nbformat_minor": 0,
  "metadata": {
    "colab": {
      "name": "Untitled8.ipynb",
      "provenance": [],
      "collapsed_sections": [],
      "authorship_tag": "ABX9TyOslhifeccZ4CBDTPBb8L5r",
      "include_colab_link": true
    },
    "kernelspec": {
      "name": "python3",
      "display_name": "Python 3"
    },
    "language_info": {
      "name": "python"
    }
  },
  "cells": [
    {
      "cell_type": "markdown",
      "metadata": {
        "id": "view-in-github",
        "colab_type": "text"
      },
      "source": [
        "<a href=\"https://colab.research.google.com/github/KJS65/Colaboratory/blob/main/Untitled8.ipynb\" target=\"_parent\"><img src=\"https://colab.research.google.com/assets/colab-badge.svg\" alt=\"Open In Colab\"/></a>"
      ]
    },
    {
      "cell_type": "code",
      "execution_count": null,
      "metadata": {
        "id": "UTpvCPv6JEHL"
      },
      "outputs": [],
      "source": [
        "#2022학년도 1학년 1학기 프로그래밍(파이썬) 수행평가\n",
        "#한양공업고등학교 1학년 11반 3번 이름 : 김준석"
      ]
    },
    {
      "cell_type": "code",
      "source": [
        "#1. 변수 사용하기\n",
        "삼성전자 = 50000\n",
        "print(삼성전자 * 10)"
      ],
      "metadata": {
        "colab": {
          "base_uri": "https://localhost:8080/"
        },
        "id": "JRZFi_2qM2gv",
        "outputId": "88c60510-7c8c-45bc-bb17-927767158ce7"
      },
      "execution_count": null,
      "outputs": [
        {
          "output_type": "stream",
          "name": "stdout",
          "text": [
            "500000\n"
          ]
        }
      ]
    },
    {
      "cell_type": "code",
      "source": [
        "#2. 문자열을 정수로 변환\n",
        "year = \"3\"\n",
        "print(int(year),\"년\",sep=\"\")"
      ],
      "metadata": {
        "colab": {
          "base_uri": "https://localhost:8080/"
        },
        "id": "XV5o3HYoNNCe",
        "outputId": "23205c43-7114-4f44-bc23-be32864b1825"
      },
      "execution_count": null,
      "outputs": [
        {
          "output_type": "stream",
          "name": "stdout",
          "text": [
            "3년\n"
          ]
        }
      ]
    },
    {
      "cell_type": "code",
      "source": [
        "#3. 아래의 문자열에서 '홀'만 출력하세요\n",
        "string = \"홀짝홀짝홀짝\"\n",
        "print(string[0:6:2])"
      ],
      "metadata": {
        "colab": {
          "base_uri": "https://localhost:8080/"
        },
        "id": "BeO2u0jVNysL",
        "outputId": "c1116264-0501-4f73-885e-4b9064f301ff"
      },
      "execution_count": null,
      "outputs": [
        {
          "output_type": "stream",
          "name": "stdout",
          "text": [
            "홀홀홀\n"
          ]
        }
      ]
    },
    {
      "cell_type": "code",
      "source": [
        "string = \"PYTHON\"\n",
        "print(string[5]+string[4]+string[3]+string[2]+string[1]+string[0])"
      ],
      "metadata": {
        "colab": {
          "base_uri": "https://localhost:8080/"
        },
        "id": "oelfGOJdON3-",
        "outputId": "9de3f959-a74c-4c99-e0c7-11c7a6176d13"
      },
      "execution_count": 74,
      "outputs": [
        {
          "output_type": "stream",
          "name": "stdout",
          "text": [
            "NOHTYP\n"
          ]
        }
      ]
    },
    {
      "cell_type": "code",
      "source": [
        "#5. movie_rank 리스트에는 아래와 같이 네 개의 영화 제목이 바인딩 되어 있다.\n",
        "movie_rank = [\"닥터 스트레인지\", \"스플릿\",\"럭키\",\"배트맨\"]\n",
        "movie_rank.insert(1,\"슈퍼맨\")\n",
        "print(movie_rank)"
      ],
      "metadata": {
        "colab": {
          "base_uri": "https://localhost:8080/"
        },
        "id": "5Aw3huNaPRvI",
        "outputId": "6ace41ce-5cb2-493c-93f5-07c63104ad45"
      },
      "execution_count": 136,
      "outputs": [
        {
          "output_type": "stream",
          "name": "stdout",
          "text": [
            "['닥터 스트레인지', '슈퍼맨', '스플릿', '럭키', '배트맨']\n",
            "['닥터 스트레인지', '슈퍼맨', '스플릿', '럭키', '배트맨']\n"
          ]
        }
      ]
    },
    {
      "cell_type": "code",
      "source": [
        "nums = [1,2,3,4,5,6,7,8,9,10]\n",
        "print(nums[0:10:2])"
      ],
      "metadata": {
        "colab": {
          "base_uri": "https://localhost:8080/"
        },
        "id": "dkwleJOgQcpo",
        "outputId": "37b52dd5-54a8-4773-f853-67940a04548f"
      },
      "execution_count": 67,
      "outputs": [
        {
          "output_type": "stream",
          "name": "stdout",
          "text": [
            "[1, 3, 5, 7, 9]\n"
          ]
        }
      ]
    },
    {
      "cell_type": "code",
      "source": [
        "data = [2,4,3,1,5,10,9]\n",
        "data.sort()\n",
        "print(data)"
      ],
      "metadata": {
        "colab": {
          "base_uri": "https://localhost:8080/"
        },
        "id": "JQ7tbQccQquU",
        "outputId": "31bdc4e4-34c4-43de-b5e8-259ed20fae62"
      },
      "execution_count": 148,
      "outputs": [
        {
          "output_type": "stream",
          "name": "stdout",
          "text": [
            "[1, 2, 3, 4, 5, 9, 10]\n"
          ]
        }
      ]
    },
    {
      "cell_type": "code",
      "source": [
        "name1 = \"김민수\"\n",
        "age1 = 10\n",
        "name2 = \"이철희\"\n",
        "age2 = 13\n",
        "\n",
        "text = \"이름: {} 나이: {}\"\n",
        "print(text.format(name1, age1))\n",
        "print(text.format(name2,age2))"
      ],
      "metadata": {
        "colab": {
          "base_uri": "https://localhost:8080/"
        },
        "id": "sJrc-bZlR-kG",
        "outputId": "54afee48-7183-491a-f28f-f6ff448887df"
      },
      "execution_count": 147,
      "outputs": [
        {
          "output_type": "stream",
          "name": "stdout",
          "text": [
            "이름: 김민수 나이: 10\n",
            "이름: 이철희 나이: 13\n"
          ]
        }
      ]
    },
    {
      "cell_type": "code",
      "source": [
        ""
      ],
      "metadata": {
        "id": "OGl5j2UVWCys"
      },
      "execution_count": null,
      "outputs": []
    }
  ]
}